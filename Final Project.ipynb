{
 "cells": [
  {
   "cell_type": "markdown",
   "id": "30de8ed3",
   "metadata": {},
   "source": [
    "Final Project\n",
    "<br>\n",
    "ECON 220\n",
    "<br>\n",
    "Authors: Alex Issokson, Genevieve DeBell, and Khushi Niyyar"
   ]
  },
  {
   "cell_type": "markdown",
   "id": "5c33fd50",
   "metadata": {},
   "source": [
    "Introduction:\n",
    "<br>\n",
    "Motivation:\n",
    "<br>\n",
    "Importance:"
   ]
  },
  {
   "cell_type": "markdown",
   "id": "fea28264",
   "metadata": {},
   "source": [
    "Literature Review:\n",
    "<br>\n",
    "Article 1:\n",
    "<br>\n",
    "Article 2:\n",
    "<br>\n",
    "Article 3:\n",
    "<br>\n",
    "Article 4:\n",
    "<br>\n",
    "Article 5:\n",
    "<br>\n",
    "Article 6:"
   ]
  },
  {
   "cell_type": "markdown",
   "id": "2e8aa9c0",
   "metadata": {},
   "source": [
    "Data:\n",
    "<br>\n",
    "Data Source: The source of data that we will be using is IPUMS USA. IPUMS USA collects, preserves, and harmonizes U.S. census microdata and\n",
    "provides easy access to this data.\n",
    "<br>\n",
    "Variables: The variables that we will be using are total personal income (denoted by \"INCTOT\" on IPUMS USA), and race (denoted by \"RACE\" on IPUMS USA)."
   ]
  },
  {
   "cell_type": "code",
   "execution_count": 1,
   "id": "7d1da398",
   "metadata": {},
   "outputs": [],
   "source": [
    "#Find working directory\n",
    "import os\n",
    "path = os.getcwd()\n",
    "#print(path)"
   ]
  },
  {
   "cell_type": "code",
   "execution_count": 2,
   "id": "b55751af",
   "metadata": {},
   "outputs": [],
   "source": [
    "import numpy as np\n",
    "import pandas as pd\n",
    "import matplotlib.pyplot as plt\n",
    "import seaborn as sns"
   ]
  },
  {
   "cell_type": "markdown",
   "id": "ff5a82ba",
   "metadata": {},
   "source": [
    "Steven Ruggles, Sarah Flood, Matthew Sobek, Danika Brockman, Grace Cooper,  Stephanie Richards, and Megan Schouweiler. IPUMS USA: Version 13.0 [dataset]. Minneapolis, MN: IPUMS, 2023.\n",
    "https://doi.org/10.18128/D010.V13.0"
   ]
  },
  {
   "cell_type": "code",
   "execution_count": 3,
   "id": "220e401c",
   "metadata": {},
   "outputs": [],
   "source": [
    "data = pd.read_csv(r'/Users/Commish/Documents/ECON 220/Data/usa_00003.csv.gz')"
   ]
  },
  {
   "cell_type": "code",
   "execution_count": 4,
   "id": "244f6ce9",
   "metadata": {},
   "outputs": [
    {
     "data": {
      "text/html": [
       "<div>\n",
       "<style scoped>\n",
       "    .dataframe tbody tr th:only-of-type {\n",
       "        vertical-align: middle;\n",
       "    }\n",
       "\n",
       "    .dataframe tbody tr th {\n",
       "        vertical-align: top;\n",
       "    }\n",
       "\n",
       "    .dataframe thead th {\n",
       "        text-align: right;\n",
       "    }\n",
       "</style>\n",
       "<table border=\"1\" class=\"dataframe\">\n",
       "  <thead>\n",
       "    <tr style=\"text-align: right;\">\n",
       "      <th></th>\n",
       "      <th>SEX</th>\n",
       "      <th>AGE</th>\n",
       "      <th>RACE</th>\n",
       "      <th>RACED</th>\n",
       "      <th>INCTOT</th>\n",
       "    </tr>\n",
       "  </thead>\n",
       "  <tbody>\n",
       "    <tr>\n",
       "      <th>0</th>\n",
       "      <td>1</td>\n",
       "      <td>85</td>\n",
       "      <td>1</td>\n",
       "      <td>100</td>\n",
       "      <td>15000</td>\n",
       "    </tr>\n",
       "    <tr>\n",
       "      <th>1</th>\n",
       "      <td>2</td>\n",
       "      <td>67</td>\n",
       "      <td>2</td>\n",
       "      <td>200</td>\n",
       "      <td>4800</td>\n",
       "    </tr>\n",
       "    <tr>\n",
       "      <th>2</th>\n",
       "      <td>1</td>\n",
       "      <td>74</td>\n",
       "      <td>1</td>\n",
       "      <td>100</td>\n",
       "      <td>36000</td>\n",
       "    </tr>\n",
       "    <tr>\n",
       "      <th>3</th>\n",
       "      <td>1</td>\n",
       "      <td>16</td>\n",
       "      <td>1</td>\n",
       "      <td>100</td>\n",
       "      <td>0</td>\n",
       "    </tr>\n",
       "    <tr>\n",
       "      <th>4</th>\n",
       "      <td>1</td>\n",
       "      <td>83</td>\n",
       "      <td>1</td>\n",
       "      <td>100</td>\n",
       "      <td>7200</td>\n",
       "    </tr>\n",
       "  </tbody>\n",
       "</table>\n",
       "</div>"
      ],
      "text/plain": [
       "   SEX  AGE  RACE  RACED  INCTOT\n",
       "0    1   85     1    100   15000\n",
       "1    2   67     2    200    4800\n",
       "2    1   74     1    100   36000\n",
       "3    1   16     1    100       0\n",
       "4    1   83     1    100    7200"
      ]
     },
     "execution_count": 4,
     "metadata": {},
     "output_type": "execute_result"
    }
   ],
   "source": [
    "data.head()"
   ]
  },
  {
   "cell_type": "code",
   "execution_count": 5,
   "id": "c8a766fe",
   "metadata": {},
   "outputs": [
    {
     "name": "stdout",
     "output_type": "stream",
     "text": [
      "<class 'pandas.core.frame.DataFrame'>\n",
      "RangeIndex: 3252599 entries, 0 to 3252598\n",
      "Data columns (total 5 columns):\n",
      " #   Column  Dtype\n",
      "---  ------  -----\n",
      " 0   SEX     int64\n",
      " 1   AGE     int64\n",
      " 2   RACE    int64\n",
      " 3   RACED   int64\n",
      " 4   INCTOT  int64\n",
      "dtypes: int64(5)\n",
      "memory usage: 124.1 MB\n"
     ]
    }
   ],
   "source": [
    "data.info()"
   ]
  },
  {
   "cell_type": "code",
   "execution_count": 6,
   "id": "6b72b783",
   "metadata": {},
   "outputs": [],
   "source": [
    "pd.options.display.float_format = '{:.4f}'.format"
   ]
  },
  {
   "cell_type": "code",
   "execution_count": 20,
   "id": "7dd0e187",
   "metadata": {},
   "outputs": [
    {
     "data": {
      "text/plain": [
       "mean          1.5088\n",
       "std           0.4999\n",
       "min           1.0000\n",
       "max           2.0000\n",
       "count   3252599.0000\n",
       "Name: SEX, dtype: float64"
      ]
     },
     "execution_count": 20,
     "metadata": {},
     "output_type": "execute_result"
    }
   ],
   "source": [
    "data['SEX'].agg(['mean', 'std', 'min', 'max', 'count'])"
   ]
  },
  {
   "cell_type": "code",
   "execution_count": 21,
   "id": "3b2d4960",
   "metadata": {},
   "outputs": [
    {
     "data": {
      "text/plain": [
       "mean         42.6173\n",
       "std          23.8774\n",
       "min           0.0000\n",
       "max          96.0000\n",
       "count   3252599.0000\n",
       "Name: AGE, dtype: float64"
      ]
     },
     "execution_count": 21,
     "metadata": {},
     "output_type": "execute_result"
    }
   ],
   "source": [
    "data['AGE'].agg(['mean', 'std', 'min', 'max', 'count'])"
   ]
  },
  {
   "cell_type": "code",
   "execution_count": 22,
   "id": "d51d52c8",
   "metadata": {},
   "outputs": [
    {
     "data": {
      "text/plain": [
       "mean          2.5319\n",
       "std           2.5995\n",
       "min           1.0000\n",
       "max           9.0000\n",
       "count   3252599.0000\n",
       "Name: RACE, dtype: float64"
      ]
     },
     "execution_count": 22,
     "metadata": {},
     "output_type": "execute_result"
    }
   ],
   "source": [
    "data['RACE'].agg(['mean', 'std', 'min', 'max', 'count'])"
   ]
  },
  {
   "cell_type": "code",
   "execution_count": 23,
   "id": "8da30b57",
   "metadata": {},
   "outputs": [
    {
     "data": {
      "text/plain": [
       "mean        257.3677\n",
       "std         267.0510\n",
       "min         100.0000\n",
       "max         990.0000\n",
       "count   3252599.0000\n",
       "Name: RACED, dtype: float64"
      ]
     },
     "execution_count": 23,
     "metadata": {},
     "output_type": "execute_result"
    }
   ],
   "source": [
    "data['RACED'].agg(['mean', 'std', 'min', 'max', 'count'])"
   ]
  },
  {
   "cell_type": "code",
   "execution_count": 24,
   "id": "910cde47",
   "metadata": {},
   "outputs": [
    {
     "data": {
      "text/plain": [
       "mean    1609700.4247\n",
       "std     3622365.1070\n",
       "min      -11100.0000\n",
       "max     9999999.0000\n",
       "count   3252599.0000\n",
       "Name: INCTOT, dtype: float64"
      ]
     },
     "execution_count": 24,
     "metadata": {},
     "output_type": "execute_result"
    }
   ],
   "source": [
    "data['INCTOT'].agg(['mean', 'std', 'min', 'max', 'count'])"
   ]
  },
  {
   "cell_type": "code",
   "execution_count": 12,
   "id": "b23e26e2",
   "metadata": {},
   "outputs": [
    {
     "data": {
      "text/html": [
       "<div>\n",
       "<style scoped>\n",
       "    .dataframe tbody tr th:only-of-type {\n",
       "        vertical-align: middle;\n",
       "    }\n",
       "\n",
       "    .dataframe tbody tr th {\n",
       "        vertical-align: top;\n",
       "    }\n",
       "\n",
       "    .dataframe thead th {\n",
       "        text-align: right;\n",
       "    }\n",
       "</style>\n",
       "<table border=\"1\" class=\"dataframe\">\n",
       "  <thead>\n",
       "    <tr style=\"text-align: right;\">\n",
       "      <th></th>\n",
       "      <th>SEX</th>\n",
       "      <th>Female</th>\n",
       "    </tr>\n",
       "  </thead>\n",
       "  <tbody>\n",
       "    <tr>\n",
       "      <th>0</th>\n",
       "      <td>1</td>\n",
       "      <td>0</td>\n",
       "    </tr>\n",
       "    <tr>\n",
       "      <th>1</th>\n",
       "      <td>2</td>\n",
       "      <td>1</td>\n",
       "    </tr>\n",
       "    <tr>\n",
       "      <th>2</th>\n",
       "      <td>1</td>\n",
       "      <td>0</td>\n",
       "    </tr>\n",
       "    <tr>\n",
       "      <th>3</th>\n",
       "      <td>1</td>\n",
       "      <td>0</td>\n",
       "    </tr>\n",
       "    <tr>\n",
       "      <th>4</th>\n",
       "      <td>1</td>\n",
       "      <td>0</td>\n",
       "    </tr>\n",
       "    <tr>\n",
       "      <th>...</th>\n",
       "      <td>...</td>\n",
       "      <td>...</td>\n",
       "    </tr>\n",
       "    <tr>\n",
       "      <th>3252594</th>\n",
       "      <td>1</td>\n",
       "      <td>0</td>\n",
       "    </tr>\n",
       "    <tr>\n",
       "      <th>3252595</th>\n",
       "      <td>2</td>\n",
       "      <td>1</td>\n",
       "    </tr>\n",
       "    <tr>\n",
       "      <th>3252596</th>\n",
       "      <td>1</td>\n",
       "      <td>0</td>\n",
       "    </tr>\n",
       "    <tr>\n",
       "      <th>3252597</th>\n",
       "      <td>1</td>\n",
       "      <td>0</td>\n",
       "    </tr>\n",
       "    <tr>\n",
       "      <th>3252598</th>\n",
       "      <td>2</td>\n",
       "      <td>1</td>\n",
       "    </tr>\n",
       "  </tbody>\n",
       "</table>\n",
       "<p>3252599 rows × 2 columns</p>\n",
       "</div>"
      ],
      "text/plain": [
       "         SEX  Female\n",
       "0          1       0\n",
       "1          2       1\n",
       "2          1       0\n",
       "3          1       0\n",
       "4          1       0\n",
       "...      ...     ...\n",
       "3252594    1       0\n",
       "3252595    2       1\n",
       "3252596    1       0\n",
       "3252597    1       0\n",
       "3252598    2       1\n",
       "\n",
       "[3252599 rows x 2 columns]"
      ]
     },
     "execution_count": 12,
     "metadata": {},
     "output_type": "execute_result"
    }
   ],
   "source": [
    "#Create \"fem\" variable: 1 if female, 0 if not\n",
    "data['Female'] = data['SEX']==2\n",
    "#Convert to integer\n",
    "data['Female'] = data['Female'].astype('int')\n",
    "data[['SEX', 'Female']] # Check"
   ]
  },
  {
   "cell_type": "code",
   "execution_count": 13,
   "id": "352266aa",
   "metadata": {},
   "outputs": [
    {
     "data": {
      "text/html": [
       "<div>\n",
       "<style scoped>\n",
       "    .dataframe tbody tr th:only-of-type {\n",
       "        vertical-align: middle;\n",
       "    }\n",
       "\n",
       "    .dataframe tbody tr th {\n",
       "        vertical-align: top;\n",
       "    }\n",
       "\n",
       "    .dataframe thead th {\n",
       "        text-align: right;\n",
       "    }\n",
       "</style>\n",
       "<table border=\"1\" class=\"dataframe\">\n",
       "  <thead>\n",
       "    <tr style=\"text-align: right;\">\n",
       "      <th></th>\n",
       "      <th>RACE</th>\n",
       "      <th>White</th>\n",
       "    </tr>\n",
       "  </thead>\n",
       "  <tbody>\n",
       "    <tr>\n",
       "      <th>0</th>\n",
       "      <td>1</td>\n",
       "      <td>1</td>\n",
       "    </tr>\n",
       "    <tr>\n",
       "      <th>1</th>\n",
       "      <td>2</td>\n",
       "      <td>0</td>\n",
       "    </tr>\n",
       "    <tr>\n",
       "      <th>2</th>\n",
       "      <td>1</td>\n",
       "      <td>1</td>\n",
       "    </tr>\n",
       "    <tr>\n",
       "      <th>3</th>\n",
       "      <td>1</td>\n",
       "      <td>1</td>\n",
       "    </tr>\n",
       "    <tr>\n",
       "      <th>4</th>\n",
       "      <td>1</td>\n",
       "      <td>1</td>\n",
       "    </tr>\n",
       "  </tbody>\n",
       "</table>\n",
       "</div>"
      ],
      "text/plain": [
       "   RACE  White\n",
       "0     1      1\n",
       "1     2      0\n",
       "2     1      1\n",
       "3     1      1\n",
       "4     1      1"
      ]
     },
     "execution_count": 13,
     "metadata": {},
     "output_type": "execute_result"
    }
   ],
   "source": [
    "def white(x):\n",
    "    if (x == 1):\n",
    "        return 1\n",
    "    else:\n",
    "        return 0\n",
    "    \n",
    "data['White'] = data['RACE'].apply(white)\n",
    "data[['RACE', 'White']].head()"
   ]
  },
  {
   "cell_type": "code",
   "execution_count": 14,
   "id": "3d399d78",
   "metadata": {},
   "outputs": [
    {
     "data": {
      "text/html": [
       "<div>\n",
       "<style scoped>\n",
       "    .dataframe tbody tr th:only-of-type {\n",
       "        vertical-align: middle;\n",
       "    }\n",
       "\n",
       "    .dataframe tbody tr th {\n",
       "        vertical-align: top;\n",
       "    }\n",
       "\n",
       "    .dataframe thead th {\n",
       "        text-align: right;\n",
       "    }\n",
       "</style>\n",
       "<table border=\"1\" class=\"dataframe\">\n",
       "  <thead>\n",
       "    <tr style=\"text-align: right;\">\n",
       "      <th></th>\n",
       "      <th>RACE</th>\n",
       "      <th>Black</th>\n",
       "    </tr>\n",
       "  </thead>\n",
       "  <tbody>\n",
       "    <tr>\n",
       "      <th>0</th>\n",
       "      <td>1</td>\n",
       "      <td>0</td>\n",
       "    </tr>\n",
       "    <tr>\n",
       "      <th>1</th>\n",
       "      <td>2</td>\n",
       "      <td>1</td>\n",
       "    </tr>\n",
       "    <tr>\n",
       "      <th>2</th>\n",
       "      <td>1</td>\n",
       "      <td>0</td>\n",
       "    </tr>\n",
       "    <tr>\n",
       "      <th>3</th>\n",
       "      <td>1</td>\n",
       "      <td>0</td>\n",
       "    </tr>\n",
       "    <tr>\n",
       "      <th>4</th>\n",
       "      <td>1</td>\n",
       "      <td>0</td>\n",
       "    </tr>\n",
       "  </tbody>\n",
       "</table>\n",
       "</div>"
      ],
      "text/plain": [
       "   RACE  Black\n",
       "0     1      0\n",
       "1     2      1\n",
       "2     1      0\n",
       "3     1      0\n",
       "4     1      0"
      ]
     },
     "execution_count": 14,
     "metadata": {},
     "output_type": "execute_result"
    }
   ],
   "source": [
    "def black(x):\n",
    "    if (x == 2):\n",
    "        return 1\n",
    "    else:\n",
    "        return 0\n",
    "    \n",
    "data['Black'] = data['RACE'].apply(black)\n",
    "data[['RACE', 'Black']].head()"
   ]
  },
  {
   "cell_type": "code",
   "execution_count": 15,
   "id": "53f26318",
   "metadata": {},
   "outputs": [
    {
     "data": {
      "text/html": [
       "<div>\n",
       "<style scoped>\n",
       "    .dataframe tbody tr th:only-of-type {\n",
       "        vertical-align: middle;\n",
       "    }\n",
       "\n",
       "    .dataframe tbody tr th {\n",
       "        vertical-align: top;\n",
       "    }\n",
       "\n",
       "    .dataframe thead th {\n",
       "        text-align: right;\n",
       "    }\n",
       "</style>\n",
       "<table border=\"1\" class=\"dataframe\">\n",
       "  <thead>\n",
       "    <tr style=\"text-align: right;\">\n",
       "      <th></th>\n",
       "      <th>RACE</th>\n",
       "      <th>Other Race</th>\n",
       "    </tr>\n",
       "  </thead>\n",
       "  <tbody>\n",
       "    <tr>\n",
       "      <th>0</th>\n",
       "      <td>1</td>\n",
       "      <td>0</td>\n",
       "    </tr>\n",
       "    <tr>\n",
       "      <th>1</th>\n",
       "      <td>2</td>\n",
       "      <td>0</td>\n",
       "    </tr>\n",
       "    <tr>\n",
       "      <th>2</th>\n",
       "      <td>1</td>\n",
       "      <td>0</td>\n",
       "    </tr>\n",
       "    <tr>\n",
       "      <th>3</th>\n",
       "      <td>1</td>\n",
       "      <td>0</td>\n",
       "    </tr>\n",
       "    <tr>\n",
       "      <th>4</th>\n",
       "      <td>1</td>\n",
       "      <td>0</td>\n",
       "    </tr>\n",
       "  </tbody>\n",
       "</table>\n",
       "</div>"
      ],
      "text/plain": [
       "   RACE  Other Race\n",
       "0     1           0\n",
       "1     2           0\n",
       "2     1           0\n",
       "3     1           0\n",
       "4     1           0"
      ]
     },
     "execution_count": 15,
     "metadata": {},
     "output_type": "execute_result"
    }
   ],
   "source": [
    "def other(x):\n",
    "    if (x >= 3):\n",
    "        return 1\n",
    "    else:\n",
    "        return 0\n",
    "    \n",
    "data['Other Race'] = data['RACE'].apply(other)\n",
    "data[['RACE', 'Other Race']].head()"
   ]
  },
  {
   "cell_type": "code",
   "execution_count": 16,
   "id": "9b95249f",
   "metadata": {},
   "outputs": [
    {
     "data": {
      "text/html": [
       "<div>\n",
       "<style scoped>\n",
       "    .dataframe tbody tr th:only-of-type {\n",
       "        vertical-align: middle;\n",
       "    }\n",
       "\n",
       "    .dataframe tbody tr th {\n",
       "        vertical-align: top;\n",
       "    }\n",
       "\n",
       "    .dataframe thead th {\n",
       "        text-align: right;\n",
       "    }\n",
       "</style>\n",
       "<table border=\"1\" class=\"dataframe\">\n",
       "  <thead>\n",
       "    <tr style=\"text-align: right;\">\n",
       "      <th></th>\n",
       "      <th>SEX</th>\n",
       "      <th>AGE</th>\n",
       "      <th>RACE</th>\n",
       "      <th>RACED</th>\n",
       "      <th>INCTOT</th>\n",
       "      <th>Female</th>\n",
       "      <th>White</th>\n",
       "      <th>Black</th>\n",
       "      <th>Other Race</th>\n",
       "    </tr>\n",
       "  </thead>\n",
       "  <tbody>\n",
       "    <tr>\n",
       "      <th>0</th>\n",
       "      <td>1</td>\n",
       "      <td>85</td>\n",
       "      <td>1</td>\n",
       "      <td>100</td>\n",
       "      <td>15000</td>\n",
       "      <td>0</td>\n",
       "      <td>1</td>\n",
       "      <td>0</td>\n",
       "      <td>0</td>\n",
       "    </tr>\n",
       "    <tr>\n",
       "      <th>1</th>\n",
       "      <td>2</td>\n",
       "      <td>67</td>\n",
       "      <td>2</td>\n",
       "      <td>200</td>\n",
       "      <td>4800</td>\n",
       "      <td>1</td>\n",
       "      <td>0</td>\n",
       "      <td>1</td>\n",
       "      <td>0</td>\n",
       "    </tr>\n",
       "    <tr>\n",
       "      <th>2</th>\n",
       "      <td>1</td>\n",
       "      <td>74</td>\n",
       "      <td>1</td>\n",
       "      <td>100</td>\n",
       "      <td>36000</td>\n",
       "      <td>0</td>\n",
       "      <td>1</td>\n",
       "      <td>0</td>\n",
       "      <td>0</td>\n",
       "    </tr>\n",
       "    <tr>\n",
       "      <th>3</th>\n",
       "      <td>1</td>\n",
       "      <td>16</td>\n",
       "      <td>1</td>\n",
       "      <td>100</td>\n",
       "      <td>0</td>\n",
       "      <td>0</td>\n",
       "      <td>1</td>\n",
       "      <td>0</td>\n",
       "      <td>0</td>\n",
       "    </tr>\n",
       "    <tr>\n",
       "      <th>4</th>\n",
       "      <td>1</td>\n",
       "      <td>83</td>\n",
       "      <td>1</td>\n",
       "      <td>100</td>\n",
       "      <td>7200</td>\n",
       "      <td>0</td>\n",
       "      <td>1</td>\n",
       "      <td>0</td>\n",
       "      <td>0</td>\n",
       "    </tr>\n",
       "  </tbody>\n",
       "</table>\n",
       "</div>"
      ],
      "text/plain": [
       "   SEX  AGE  RACE  RACED  INCTOT  Female  White  Black  Other Race\n",
       "0    1   85     1    100   15000       0      1      0           0\n",
       "1    2   67     2    200    4800       1      0      1           0\n",
       "2    1   74     1    100   36000       0      1      0           0\n",
       "3    1   16     1    100       0       0      1      0           0\n",
       "4    1   83     1    100    7200       0      1      0           0"
      ]
     },
     "execution_count": 16,
     "metadata": {},
     "output_type": "execute_result"
    }
   ],
   "source": [
    "data.head()"
   ]
  },
  {
   "cell_type": "markdown",
   "id": "579f2446",
   "metadata": {},
   "source": [
    "We are not splitting up our variables much besides how they are already separated since race is one of our major variables. If we were to split up personal income into multiple categories, it would look subjective based on what different people consider to be \"a lot\" versus \"a little\". So, we will start by having one plot showing total income by race (all of them). Then, we will have another plot showing total personal income by non-white (0) and white (1) people."
   ]
  },
  {
   "cell_type": "code",
   "execution_count": 19,
   "id": "0ed8e28b",
   "metadata": {},
   "outputs": [
    {
     "data": {
      "image/png": "[encoded data removed]",
      "text/plain": [
       "<Figure size 432x288 with 1 Axes>"
      ]
     },
     "metadata": {
      "needs_background": "light"
     },
     "output_type": "display_data"
    }
   ],
   "source": [
    "bar = sns.barplot(data = data, x = 'RACE', y = 'INCTOT', ci = None);\n",
    "bar.set(title = 'Total Income by Race', xlabel = 'Race', ylabel = 'Personal Income');"
   ]
  },
  {
   "cell_type": "code",
   "execution_count": 26,
   "id": "cc79ddd6",
   "metadata": {},
   "outputs": [
    {
     "data": {
      "image/png": "[encoded data removed]",
      "text/plain": [
       "<Figure size 432x288 with 1 Axes>"
      ]
     },
     "metadata": {
      "needs_background": "light"
     },
     "output_type": "display_data"
    }
   ],
   "source": [
    "bar = sns.barplot(data = data, x = 'White', y = 'INCTOT', ci = None);\n",
    "bar.set(title = 'Total Income by Race', xlabel = 'Race', ylabel = 'Personal Income');"
   ]
  },
  {
   "cell_type": "code",
   "execution_count": null,
   "id": "0fd7f479",
   "metadata": {},
   "outputs": [],
   "source": []
  }
 ],
 "metadata": {
  "kernelspec": {
   "display_name": "Python 3 (ipykernel)",
   "language": "python",
   "name": "python3"
  },
  "language_info": {
   "codemirror_mode": {
    "name": "ipython",
    "version": 3
   },
   "file_extension": ".py",
   "mimetype": "text/x-python",
   "name": "python",
   "nbconvert_exporter": "python",
   "pygments_lexer": "ipython3",
   "version": "3.9.12"
  }
 },
 "nbformat": 4,
 "nbformat_minor": 5
}
