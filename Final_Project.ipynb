{
 "cells": [
  {
   "cell_type": "markdown",
   "id": "2c23bcbb",
   "metadata": {},
   "source": [
    "<h1 style='text-align: center;'> Income and Race: Are they Related? </h1>\n",
    "<h2 style='text-align: center;'> Authors: Alex Issokson, Genevieve DeBell, and Khushi Niyyar </h2>"
   ]
  },
  {
   "cell_type": "markdown",
   "id": "5778aa51",
   "metadata": {},
   "source": [
    "### Table of Contents\n",
    "* [Introduction](#anchor1)\n",
    "* [Literature Review](#anchor2)\n",
    "* [Data](#anchor3)\n",
    "* [Plots](#anchor4)\n",
    "* [Hypothesis Tests](#anchor5)\n",
    "* [Conclusion](#anchor6)"
   ]
  },
  {
   "cell_type": "markdown",
   "id": "a81af27d",
   "metadata": {},
   "source": [
    "<a class='anchor' id='anchor1'></a>\n",
    "## Introduction:\n",
    "<br>\n",
    "Motivation: Inequality, especially in income, is rising in the U.S. Inequality is bad for the economy because it can lead to crashes. Income inequality can also lead to obesity and unhappiness, as well as more violent crime. In this article from the federal reserve, it shows that Black and Hispanic households hold only 2.9% and 2.8%, respectively, despite accounting for 15.6% and 10.9% of the U.S. population, respectively. On average, Black and Hispanic households earn about half as much as the average White household. These numbers show that this is clearly a prevalent issue in our country and that is the motivation for our research question, especially since the data from this article goes up until 2019. The COVID-19 pandemic may have affected this shift, so we want to look at what the difference is in income now between White Americans and everyone else.\n",
    "\n",
    "https://www.federalreserve.gov/econres/notes/feds-notes/wealth-inequality-and-the-racial-wealth-gap-20211022.html\n",
    "<br>\n",
    "\n",
    "Importance: Our question is important because wage disparities between races (and sexes as well, for that matter) has been an issue in the U.S. for a long time. By looking at recent trends, we can start to look into how much that has been a problem in recent years. On average, White Americans make more than Black and Hispanic Americans as well as other Americans who identify with another race or with multiple races. We even read an article in the main section of our ECON 220 class that showed how in 2015, white Americans had a higher average income than black Americans across the board, even when comparing them within the same categories, such as highest level of school completed. Income is a key determiner of wealth, because earning money contributes to someone's wealth. Race and income should not be positively correlated, so our question aims to check that correlation.\n",
    "\n",
    "https://gallery.mailchimp.com/bf2b9b3cf3fdd8861943fca2f/files/Umbrellas_Dont_Make_It_Rain8.pdf"
   ]
  },
  {
   "cell_type": "markdown",
   "id": "9c3437ff",
   "metadata": {},
   "source": [
    "<a class='anchor' id='anchor2'></a>\n",
    "## Literature Review:\n",
    "<br>\n",
    "Article 1: Race and Economic Opportunity in the United States: an Intergenerational Perspective\n",
    "<br>\n",
    "https://academic.oup.com/qje/article/135/2/711/5687353\n",
    "\n",
    "Summary:\n",
    "This article studies the sources of racial income disparities in the United States by using anonymized longitudinal data covering nearly the entire US population from 1989 to 2015 to examine the black-white income gap. This article focuses on black and white men, because they found no differences in income between black and white women. Using de-identified data from censuses linked to data from income tax return, a four-part analysis was conducted. The study first characterized intergenerational gaps by race, measured children’s incomes as their mean household income when they were in their mid thirties, measured parents’ income as mean household income between 1994 and 2000, and finally measured intergenerational mobility using a rank specification. \n",
    "\n",
    "Findings: This analysis found that the largest racial income gap is between black and white people. This gap is perpetuated by segregation, proposing that black and white people examined in this study may have different outcomes because they tend to live in different neighborhoods. While honing in on the large gap between black and white Americans, this study also found nuance among a variety of racial groups. Notably, black and American Indian children have lower rates of upward mobility and higher rates of downward mobility than white children, while hispanic children have relatively high rates of upward mobility and are moving up in the income distribution across generations. This study concluded that a program that closes the gap in opportunity between black and white children at a parental income level, perhaps in the form of a trust, could eliminate much of the income gap in as little as two generations. \n",
    "\n",
    "<br>\n",
    "Article 2: Race Matters: Income Shares, Income Inequality, and Income Mobility for All U.S. Races | Demography | Duke University Press\n",
    "<br>\n",
    "https://read.dukeupress.edu/demography/article/56/3/999/167998/Race-Matters-Income-Shares-Income-Inequality-and\n",
    "\n",
    "Summary: This article uses unique linked data to conduct an analysis of income inequality and mobility by race and ethnicity. Researchers used data that include an administrative source of income for the population of US income tax filers over 15 years, and the race and ethnicity of each observation. Using this data helped the researchers overcome usual limitations because the Internal Revenue Service tax data was linked at the person level to Census Bureau data on rice and hispanic origin. The study was mainly motivated by the knowledge that race matters for economic and social outcomes, and that there are stark disparities in everything from wage to health outcomes across racial groups in the United States. Furthermore, a recent rise in income inequality has been largely unexplored, and this article aims to explain it along racial and ethnic lines.\n",
    "\n",
    "Findings: The main finding of this analysis was the uncovering of a rigid income structure, with white and Asian people positioned at the top, and black people, American Indians, and Hispanics confined to the bottom. Whites tend to have a disproportionately large share of income in top quantiles, and all other races occupy a disproportionately large share of the income distribution in the bottom 10% and 1% of the whole income distribution. An interesting finding of this article was a novel rate of income growth at the 90th percentile of the income distribution, which exceeds that at the 50th percentile for all racial and ethnic groups. This means that the top part of the income distribution is diverging from the rest at a fast rate, and the middle income part of the distribution is diverging from the bottom. This growth trend is most pronounced among white people. However, income mobility decreased for all racial and ethnic groups between 2000 and 2014, contributing to a rigid distribution of income among races. \n",
    "\n",
    "<br>\n",
    "Article 3: What’s Policy Got to Do with It? Race, Gender, and Economic Inequality in the United States \n",
    "<br>\n",
    "https://www.jstor.org/stable/48563035?searchText=&searchUri=&ab_segments=&searchKey=&refreqid=fastly-default%3A64051b3b2a29ac23d1814473e80c2e02\n",
    "\n",
    "Summary: This article was based on the knowledge that economic inequality is both racialized and gendered, and that public policy bears great weight in its relation to racial inequalities in economic positions among women. The study focused on women because, “Comparisons to men across and within racial groups are often highlighted over and above differences between women. By focusing on comparisons among women, we show that across most metrics of economic well-being, black and latina women are considerably disadvantaged.” The analysis aims to investigate whether and how social and economic policies differentially shape women’s economic positioning across racial and ethnic groups. The contributors to this article achieve this analysis by charting disparities between white women and women of color across economic indicators. They begin by defining four dimensions of economic status for black, white, and latina women: educational attainment, employment status, earnings, and poverty. They then used these dimensions to construct an economic index with data from the Annual Social and Economic Supplement of the Current Population Survey. \n",
    "\n",
    "Findings: This examination of public policy in relation to economic inequality uncovered that there is significant disparity in the relationship between economic policy and the economic status of women across racial and ethnic groups. A major finding from the earnings section of the index was that white women’s median weekly earnings were $814, compared with $673 for black women and $618 for latina women, taken from data from 2017. The central argument of this article derived from those findings is that women’s economic positioning and the policies that shape it are highly differentiated across racial and ethnic groups. \n",
    "\n",
    "<br>\n",
    "Article 4: Race and Human Capital\n",
    "<br>\n",
    "https://www-jstor-org.proxy.library.emory.edu/stable/1805133\n",
    "\n",
    "Summary: This paper looked at the differences in race and human capital immediately after the Civil War up until the 1980s, specially for black and white men. The author used underutilized Census data from the 1890 Census to the 1980 Census to examine the income positions of black individuals for all post slavery birth cohorts. This microanalysis allowed the author to gain a deeper, more holistic understanding of the data and situation. The author then took a historical perspective to examine other factors, including education and literacy, to see if he could find a relationship between the expansions on these fronts and relative income and human capital for Black Americans. He separated the data into two periods–immediately after the Civil War and at the onset of the 20th century. The author examined the differences and growth in mean education and mean income–his focus here, however, had to be on post-1940s data, as the 1940 Census was the first to include income. Before 1940, the author relied on data of the occupation distribution of the workforce by race to study this relationship long-term and examine how the distribution of the different races in each occupation changed over time. \n",
    "\n",
    "Findings: The author found that the ratio of black-white income has increased over the past few decades, especially since 1960 with the Civil Rights Act. For men, racial disparities grew larger immediately after the Civil War. The author further analyzed the relative racial income through the lens of education and found that when comparing the racial differences in mean schooling levels, immediately following the Civil War, the amount of Black students in schools increased by nearly six-fold. Despite this expansion, in the early 1900s, the disparity between Black and white members of the population grew. After this time, the difference in schooling significantly narrowed. In terms of relative income by race, the author discovered that relative income of black men to white men increased from 1890 to 1920, stayed relatively the same until 1940 when it then increased quickly and steadily until the 1980s. While the author cannot attest to differences with specific occupations, within each birth cohort, there does appear to be a significant decline in relative income for black men over time. To visualize this data, the author created tables that examined black-white male income ratios per five-year birth cohort for 1940s onward. \n",
    "\n",
    "<br>\n",
    "Article 5: Income Inequality and the Persistence of Racial Economic Disparities\n",
    "<br>\n",
    "https://sociologicalscience.com/articles-v5-8-182/\n",
    "\n",
    "Summary: This author focused their paper on the fundamental income inequalities between races that remain relatively unchanged from 1960 to the modern-day. They argue that the persistence of this gap comes from the shape of the income distribution. Therefore, they make the case that U.S. society favors the rich more and more over time. Hence, resources go toward the ultra-wealthy, leading to the economic stagnation of other groups. Racial inequality gets heightened because of this situation, as it is particularly harmful to the Black population, who are highly underrepresented in the top one percent. To analyze these numbers, the author separated the overall data from medians and means to analyze differences in trends in “income earned at each rank.” Using microdata from the CPS obtained from IPUMS, the author looked at the years from 1968 to 2016 and analyzed the black-white family income disparities during that time, separately looking at income ranks and their respective benefits so that they can separate changes due to the income distribution shape from changes to the black and white income ranks. Ranks are found by calculating the income percentiles for the whole United States population, not just stratified by race. \n",
    "\n",
    "Findings: \n",
    "The author discussed “occupational segregation by race” in that white people tend to hold better and higher earning jobs than their black counterparts, meaning that the racial income gap depends on which jobs go to which people. This is decreasing but still exists, and even in the same jobs, black people earn less than white people with similar qualifications. The author further found that the ratio of black to white mean and median annual family income remained relatively unchanged over time. While the average Black individual occupies a higher average rank then they did in 1968, the average black family income at the 25th percentile fell much more than their white counterparts’ did. The author checked this information by narrowing the sample to adults and only native-born U.S. citizens, all of which affirmed their findings. Incomes truly only rose for the top ten percent of Black Americans and the poorest 70 percents’ income shares fell dramatically. The author then constructed a hypothetical situation in which income inequality had not gone up to see what would happen to racial disparities and saw that the racial income gap would have closed by thirty percent.\n",
    "\n",
    "<br>\n",
    "Article 6: The Impact of Economic Freedom on the Black/White Income Gap\n",
    "<br>\n",
    "https://www-jstor-org.proxy.library.emory.edu/stable/pdf/43821950.pdf?refreqid=excelsior%3A90adca28ddb316885fdf403c07474c79&ab_segments=&origin=&initiator=&acceptTC=1\n",
    "\n",
    "Summary: The paper studied whether the ratio of real median income in black families to real median income in white families could be explained by economic freedom. It utilized state-level data for the 1980- 2010 census years from the IPUMS 5 percent sample in 1980, 1990, and 2000 and the 1 percent sample in 2010 and Bueno et al.’s index of economic freedom. The authors used a standard panel model and controlled variables in regressions and examined the log of black and white median income and the ratio between them. The author found that higher levels of economic freedom are correlated with a greater racial income gap for Black and white Americans. \n",
    "\n",
    "Findings: In their analysis, the authors uncovered that higher levels of economic freedom (defined by the ability to make economic decisions without outside pressure) are associated with higher income levels in both Black and white Americans. What’s more, they found that higher levels of economic freedom were negatively correlated with the black/white income ratio. Economic freedom results in a higher association in white households than black ones, meaning that an increase in economic freedom would result in the worsening of the black white/income ratio, consistent with other research that placed Black Americans in the bottom of the income distribution. The authors even ran regressions with other variables that would affect economic freedom as explanatory variables, and in none of their analyses did an increase in economic freedom lead to a higher ratio of black income to white income. \n"
   ]
  },
  {
   "cell_type": "markdown",
   "id": "fd593331",
   "metadata": {},
   "source": [
    "<a class='anchor' id='anchor3'></a>\n",
    "## Data:\n",
    "<br>\n",
    "Data Source: The source of data that we will be using is IPUMS USA. IPUMS USA collects, preserves, and harmonizes U.S. census microdata and provides easy access to this data. The data is from 2021.\n",
    "<br>\n",
    "Variables: The variables that we will be using are total personal income (denoted by \"INCTOT\" on IPUMS USA), and race (denoted by \"RACE\" on IPUMS USA). Total personal income is an integer that represents each respondent's total pre-tax personal income or losses from all sources for that year (in this case, being 2021). Race is also represented by an integer where 1 is White, 2 is Black/African American, 3 is American Indian or Alaska Native, 4 is Chinese, 5 is Japanese, 6 is Other Asian or Pacific Islander, 7 is Other race, nec, 8 is Two major races, and 9 is Three or more major races. There is no significant cleaning that needs to be done, especially since the instructions for the project already state what needs to be done to age, gender, and race. However, we are narrowing down the respondents to those between ages 14-65. The reasoning behind this is so that we have people from the legal working age to retirement."
   ]
  },
  {
   "cell_type": "code",
   "execution_count": 1,
   "id": "b591154b",
   "metadata": {},
   "outputs": [],
   "source": [
    "#Find working directory\n",
    "import os\n",
    "path = os.getcwd()\n",
    "#print(path)"
   ]
  },
  {
   "cell_type": "code",
   "execution_count": 2,
   "id": "20b5a2fd",
   "metadata": {},
   "outputs": [],
   "source": [
    "import numpy as np\n",
    "import pandas as pd\n",
    "import seaborn as sns\n",
    "import scipy.stats as stats\n",
    "import matplotlib.pyplot as plt\n",
    "from scipy.stats import ttest_ind\n",
    "from statsmodels.stats.proportion import proportions_ztest"
   ]
  },
  {
   "cell_type": "code",
   "execution_count": 3,
   "id": "376921fb",
   "metadata": {},
   "outputs": [],
   "source": [
    "data = pd.read_csv(r'/Users/Commish/Documents/ECON 220/Data/usa_00003.csv.gz')"
   ]
  },
  {
   "cell_type": "code",
   "execution_count": 4,
   "id": "e430e668",
   "metadata": {},
   "outputs": [
    {
     "data": {
      "text/html": [
       "<div>\n",
       "<style scoped>\n",
       "    .dataframe tbody tr th:only-of-type {\n",
       "        vertical-align: middle;\n",
       "    }\n",
       "\n",
       "    .dataframe tbody tr th {\n",
       "        vertical-align: top;\n",
       "    }\n",
       "\n",
       "    .dataframe thead th {\n",
       "        text-align: right;\n",
       "    }\n",
       "</style>\n",
       "<table border=\"1\" class=\"dataframe\">\n",
       "  <thead>\n",
       "    <tr style=\"text-align: right;\">\n",
       "      <th></th>\n",
       "      <th>SEX</th>\n",
       "      <th>AGE</th>\n",
       "      <th>RACE</th>\n",
       "      <th>RACED</th>\n",
       "      <th>INCTOT</th>\n",
       "    </tr>\n",
       "  </thead>\n",
       "  <tbody>\n",
       "    <tr>\n",
       "      <th>0</th>\n",
       "      <td>1</td>\n",
       "      <td>85</td>\n",
       "      <td>1</td>\n",
       "      <td>100</td>\n",
       "      <td>15000</td>\n",
       "    </tr>\n",
       "    <tr>\n",
       "      <th>1</th>\n",
       "      <td>2</td>\n",
       "      <td>67</td>\n",
       "      <td>2</td>\n",
       "      <td>200</td>\n",
       "      <td>4800</td>\n",
       "    </tr>\n",
       "    <tr>\n",
       "      <th>2</th>\n",
       "      <td>1</td>\n",
       "      <td>74</td>\n",
       "      <td>1</td>\n",
       "      <td>100</td>\n",
       "      <td>36000</td>\n",
       "    </tr>\n",
       "    <tr>\n",
       "      <th>3</th>\n",
       "      <td>1</td>\n",
       "      <td>16</td>\n",
       "      <td>1</td>\n",
       "      <td>100</td>\n",
       "      <td>0</td>\n",
       "    </tr>\n",
       "    <tr>\n",
       "      <th>4</th>\n",
       "      <td>1</td>\n",
       "      <td>83</td>\n",
       "      <td>1</td>\n",
       "      <td>100</td>\n",
       "      <td>7200</td>\n",
       "    </tr>\n",
       "  </tbody>\n",
       "</table>\n",
       "</div>"
      ],
      "text/plain": [
       "   SEX  AGE  RACE  RACED  INCTOT\n",
       "0    1   85     1    100   15000\n",
       "1    2   67     2    200    4800\n",
       "2    1   74     1    100   36000\n",
       "3    1   16     1    100       0\n",
       "4    1   83     1    100    7200"
      ]
     },
     "execution_count": 4,
     "metadata": {},
     "output_type": "execute_result"
    }
   ],
   "source": [
    "data.head()"
   ]
  },
  {
   "cell_type": "code",
   "execution_count": 5,
   "id": "48eb21fd",
   "metadata": {},
   "outputs": [
    {
     "name": "stdout",
     "output_type": "stream",
     "text": [
      "<class 'pandas.core.frame.DataFrame'>\n",
      "RangeIndex: 3252599 entries, 0 to 3252598\n",
      "Data columns (total 5 columns):\n",
      " #   Column  Dtype\n",
      "---  ------  -----\n",
      " 0   SEX     int64\n",
      " 1   AGE     int64\n",
      " 2   RACE    int64\n",
      " 3   RACED   int64\n",
      " 4   INCTOT  int64\n",
      "dtypes: int64(5)\n",
      "memory usage: 124.1 MB\n"
     ]
    }
   ],
   "source": [
    "data.info()"
   ]
  },
  {
   "cell_type": "code",
   "execution_count": 6,
   "id": "c2f65877",
   "metadata": {},
   "outputs": [],
   "source": [
    "pd.options.display.float_format = '{:.4f}'.format"
   ]
  },
  {
   "cell_type": "code",
   "execution_count": 7,
   "id": "89e68c5d",
   "metadata": {},
   "outputs": [
    {
     "data": {
      "text/plain": [
       "60    49492\n",
       "63    48764\n",
       "61    48487\n",
       "62    48392\n",
       "64    48227\n",
       "65    47989\n",
       "59    46968\n",
       "58    46758\n",
       "18    46118\n",
       "57    45954\n",
       "19    44949\n",
       "56    44494\n",
       "50    42853\n",
       "55    42431\n",
       "30    41723\n",
       "51    41402\n",
       "31    40691\n",
       "54    40599\n",
       "40    40459\n",
       "35    40402\n",
       "52    40349\n",
       "32    40264\n",
       "20    40160\n",
       "53    39968\n",
       "36    39785\n",
       "33    39727\n",
       "39    39514\n",
       "38    39477\n",
       "16    39352\n",
       "34    39311\n",
       "17    39222\n",
       "14    39217\n",
       "41    39076\n",
       "37    38995\n",
       "15    38941\n",
       "29    38672\n",
       "49    38386\n",
       "21    38037\n",
       "28    37958\n",
       "42    37408\n",
       "48    37160\n",
       "27    37019\n",
       "44    36972\n",
       "43    36878\n",
       "45    36648\n",
       "46    36369\n",
       "26    36362\n",
       "47    35890\n",
       "25    35636\n",
       "22    35069\n",
       "23    34901\n",
       "24    34833\n",
       "Name: AGE, dtype: int64"
      ]
     },
     "execution_count": 7,
     "metadata": {},
     "output_type": "execute_result"
    }
   ],
   "source": [
    "#Getting rid of everyone younger than 14 and everyone older than 65\n",
    "tooyoung = data[data['AGE'] < 14]\n",
    "data = data.drop(tooyoung.index)\n",
    "data['AGE'].value_counts(dropna=False)\n",
    "\n",
    "tooold = data[data['AGE'] > 65]\n",
    "data = data.drop(tooold.index)\n",
    "data['AGE'].value_counts(dropna=False)"
   ]
  },
  {
   "cell_type": "code",
   "execution_count": 8,
   "id": "5f2f9a4d",
   "metadata": {},
   "outputs": [
    {
     "data": {
      "text/plain": [
       "mean          1.5007\n",
       "std           0.5000\n",
       "min           1.0000\n",
       "max           2.0000\n",
       "count   2114708.0000\n",
       "Name: SEX, dtype: float64"
      ]
     },
     "execution_count": 8,
     "metadata": {},
     "output_type": "execute_result"
    }
   ],
   "source": [
    "data['SEX'].agg(['mean', 'std', 'min', 'max', 'count'])"
   ]
  },
  {
   "cell_type": "code",
   "execution_count": 9,
   "id": "14d41320",
   "metadata": {},
   "outputs": [
    {
     "data": {
      "text/plain": [
       "mean         40.3836\n",
       "std          15.3504\n",
       "min          14.0000\n",
       "max          65.0000\n",
       "count   2114708.0000\n",
       "Name: AGE, dtype: float64"
      ]
     },
     "execution_count": 9,
     "metadata": {},
     "output_type": "execute_result"
    }
   ],
   "source": [
    "data['AGE'].agg(['mean', 'std', 'min', 'max', 'count'])"
   ]
  },
  {
   "cell_type": "code",
   "execution_count": 10,
   "id": "fc679dd4",
   "metadata": {},
   "outputs": [
    {
     "data": {
      "text/plain": [
       "mean          2.6242\n",
       "std           2.6372\n",
       "min           1.0000\n",
       "max           9.0000\n",
       "count   2114708.0000\n",
       "Name: RACE, dtype: float64"
      ]
     },
     "execution_count": 10,
     "metadata": {},
     "output_type": "execute_result"
    }
   ],
   "source": [
    "data['RACE'].agg(['mean', 'std', 'min', 'max', 'count'])"
   ]
  },
  {
   "cell_type": "code",
   "execution_count": 11,
   "id": "805dcac8",
   "metadata": {},
   "outputs": [
    {
     "data": {
      "text/plain": [
       "mean        266.8490\n",
       "std         270.9148\n",
       "min         100.0000\n",
       "max         990.0000\n",
       "count   2114708.0000\n",
       "Name: RACED, dtype: float64"
      ]
     },
     "execution_count": 11,
     "metadata": {},
     "output_type": "execute_result"
    }
   ],
   "source": [
    "data['RACED'].agg(['mean', 'std', 'min', 'max', 'count'])"
   ]
  },
  {
   "cell_type": "code",
   "execution_count": 12,
   "id": "24c7f762",
   "metadata": {},
   "outputs": [
    {
     "data": {
      "text/plain": [
       "mean     231838.0660\n",
       "std     1344607.6400\n",
       "min      -11100.0000\n",
       "max     9999999.0000\n",
       "count   2114708.0000\n",
       "Name: INCTOT, dtype: float64"
      ]
     },
     "execution_count": 12,
     "metadata": {},
     "output_type": "execute_result"
    }
   ],
   "source": [
    "data['INCTOT'].agg(['mean', 'std', 'min', 'max', 'count'])"
   ]
  },
  {
   "cell_type": "code",
   "execution_count": 13,
   "id": "0e85c5dd",
   "metadata": {},
   "outputs": [
    {
     "data": {
      "text/html": [
       "<div>\n",
       "<style scoped>\n",
       "    .dataframe tbody tr th:only-of-type {\n",
       "        vertical-align: middle;\n",
       "    }\n",
       "\n",
       "    .dataframe tbody tr th {\n",
       "        vertical-align: top;\n",
       "    }\n",
       "\n",
       "    .dataframe thead th {\n",
       "        text-align: right;\n",
       "    }\n",
       "</style>\n",
       "<table border=\"1\" class=\"dataframe\">\n",
       "  <thead>\n",
       "    <tr style=\"text-align: right;\">\n",
       "      <th></th>\n",
       "      <th>SEX</th>\n",
       "      <th>Female</th>\n",
       "    </tr>\n",
       "  </thead>\n",
       "  <tbody>\n",
       "    <tr>\n",
       "      <th>3</th>\n",
       "      <td>1</td>\n",
       "      <td>0</td>\n",
       "    </tr>\n",
       "    <tr>\n",
       "      <th>5</th>\n",
       "      <td>2</td>\n",
       "      <td>1</td>\n",
       "    </tr>\n",
       "    <tr>\n",
       "      <th>6</th>\n",
       "      <td>1</td>\n",
       "      <td>0</td>\n",
       "    </tr>\n",
       "    <tr>\n",
       "      <th>7</th>\n",
       "      <td>1</td>\n",
       "      <td>0</td>\n",
       "    </tr>\n",
       "    <tr>\n",
       "      <th>8</th>\n",
       "      <td>1</td>\n",
       "      <td>0</td>\n",
       "    </tr>\n",
       "    <tr>\n",
       "      <th>...</th>\n",
       "      <td>...</td>\n",
       "      <td>...</td>\n",
       "    </tr>\n",
       "    <tr>\n",
       "      <th>3252592</th>\n",
       "      <td>1</td>\n",
       "      <td>0</td>\n",
       "    </tr>\n",
       "    <tr>\n",
       "      <th>3252593</th>\n",
       "      <td>2</td>\n",
       "      <td>1</td>\n",
       "    </tr>\n",
       "    <tr>\n",
       "      <th>3252596</th>\n",
       "      <td>1</td>\n",
       "      <td>0</td>\n",
       "    </tr>\n",
       "    <tr>\n",
       "      <th>3252597</th>\n",
       "      <td>1</td>\n",
       "      <td>0</td>\n",
       "    </tr>\n",
       "    <tr>\n",
       "      <th>3252598</th>\n",
       "      <td>2</td>\n",
       "      <td>1</td>\n",
       "    </tr>\n",
       "  </tbody>\n",
       "</table>\n",
       "<p>2114708 rows × 2 columns</p>\n",
       "</div>"
      ],
      "text/plain": [
       "         SEX  Female\n",
       "3          1       0\n",
       "5          2       1\n",
       "6          1       0\n",
       "7          1       0\n",
       "8          1       0\n",
       "...      ...     ...\n",
       "3252592    1       0\n",
       "3252593    2       1\n",
       "3252596    1       0\n",
       "3252597    1       0\n",
       "3252598    2       1\n",
       "\n",
       "[2114708 rows x 2 columns]"
      ]
     },
     "execution_count": 13,
     "metadata": {},
     "output_type": "execute_result"
    }
   ],
   "source": [
    "#Create \"fem\" variable: 1 if female, 0 if not\n",
    "data['Female'] = data['SEX']==2\n",
    "#Convert to integer\n",
    "data['Female'] = data['Female'].astype('int')\n",
    "data[['SEX', 'Female']] # Check"
   ]
  },
  {
   "cell_type": "code",
   "execution_count": 14,
   "id": "baa16ffa",
   "metadata": {},
   "outputs": [
    {
     "data": {
      "text/html": [
       "<div>\n",
       "<style scoped>\n",
       "    .dataframe tbody tr th:only-of-type {\n",
       "        vertical-align: middle;\n",
       "    }\n",
       "\n",
       "    .dataframe tbody tr th {\n",
       "        vertical-align: top;\n",
       "    }\n",
       "\n",
       "    .dataframe thead th {\n",
       "        text-align: right;\n",
       "    }\n",
       "</style>\n",
       "<table border=\"1\" class=\"dataframe\">\n",
       "  <thead>\n",
       "    <tr style=\"text-align: right;\">\n",
       "      <th></th>\n",
       "      <th>RACE</th>\n",
       "      <th>White</th>\n",
       "    </tr>\n",
       "  </thead>\n",
       "  <tbody>\n",
       "    <tr>\n",
       "      <th>3</th>\n",
       "      <td>1</td>\n",
       "      <td>1</td>\n",
       "    </tr>\n",
       "    <tr>\n",
       "      <th>5</th>\n",
       "      <td>1</td>\n",
       "      <td>1</td>\n",
       "    </tr>\n",
       "    <tr>\n",
       "      <th>6</th>\n",
       "      <td>2</td>\n",
       "      <td>0</td>\n",
       "    </tr>\n",
       "    <tr>\n",
       "      <th>7</th>\n",
       "      <td>2</td>\n",
       "      <td>0</td>\n",
       "    </tr>\n",
       "    <tr>\n",
       "      <th>8</th>\n",
       "      <td>1</td>\n",
       "      <td>1</td>\n",
       "    </tr>\n",
       "  </tbody>\n",
       "</table>\n",
       "</div>"
      ],
      "text/plain": [
       "   RACE  White\n",
       "3     1      1\n",
       "5     1      1\n",
       "6     2      0\n",
       "7     2      0\n",
       "8     1      1"
      ]
     },
     "execution_count": 14,
     "metadata": {},
     "output_type": "execute_result"
    }
   ],
   "source": [
    "def white(x):\n",
    "    if (x == 1):\n",
    "        return 1\n",
    "    else:\n",
    "        return 0\n",
    "    \n",
    "data['White'] = data['RACE'].apply(white)\n",
    "data[['RACE', 'White']].head()"
   ]
  },
  {
   "cell_type": "code",
   "execution_count": 15,
   "id": "9d67397d",
   "metadata": {},
   "outputs": [
    {
     "data": {
      "text/html": [
       "<div>\n",
       "<style scoped>\n",
       "    .dataframe tbody tr th:only-of-type {\n",
       "        vertical-align: middle;\n",
       "    }\n",
       "\n",
       "    .dataframe tbody tr th {\n",
       "        vertical-align: top;\n",
       "    }\n",
       "\n",
       "    .dataframe thead th {\n",
       "        text-align: right;\n",
       "    }\n",
       "</style>\n",
       "<table border=\"1\" class=\"dataframe\">\n",
       "  <thead>\n",
       "    <tr style=\"text-align: right;\">\n",
       "      <th></th>\n",
       "      <th>RACE</th>\n",
       "      <th>Black</th>\n",
       "    </tr>\n",
       "  </thead>\n",
       "  <tbody>\n",
       "    <tr>\n",
       "      <th>3</th>\n",
       "      <td>1</td>\n",
       "      <td>0</td>\n",
       "    </tr>\n",
       "    <tr>\n",
       "      <th>5</th>\n",
       "      <td>1</td>\n",
       "      <td>0</td>\n",
       "    </tr>\n",
       "    <tr>\n",
       "      <th>6</th>\n",
       "      <td>2</td>\n",
       "      <td>1</td>\n",
       "    </tr>\n",
       "    <tr>\n",
       "      <th>7</th>\n",
       "      <td>2</td>\n",
       "      <td>1</td>\n",
       "    </tr>\n",
       "    <tr>\n",
       "      <th>8</th>\n",
       "      <td>1</td>\n",
       "      <td>0</td>\n",
       "    </tr>\n",
       "  </tbody>\n",
       "</table>\n",
       "</div>"
      ],
      "text/plain": [
       "   RACE  Black\n",
       "3     1      0\n",
       "5     1      0\n",
       "6     2      1\n",
       "7     2      1\n",
       "8     1      0"
      ]
     },
     "execution_count": 15,
     "metadata": {},
     "output_type": "execute_result"
    }
   ],
   "source": [
    "def black(x):\n",
    "    if (x == 2):\n",
    "        return 1\n",
    "    else:\n",
    "        return 0\n",
    "    \n",
    "data['Black'] = data['RACE'].apply(black)\n",
    "data[['RACE', 'Black']].head()"
   ]
  },
  {
   "cell_type": "code",
   "execution_count": 16,
   "id": "4749f9ea",
   "metadata": {},
   "outputs": [
    {
     "data": {
      "text/html": [
       "<div>\n",
       "<style scoped>\n",
       "    .dataframe tbody tr th:only-of-type {\n",
       "        vertical-align: middle;\n",
       "    }\n",
       "\n",
       "    .dataframe tbody tr th {\n",
       "        vertical-align: top;\n",
       "    }\n",
       "\n",
       "    .dataframe thead th {\n",
       "        text-align: right;\n",
       "    }\n",
       "</style>\n",
       "<table border=\"1\" class=\"dataframe\">\n",
       "  <thead>\n",
       "    <tr style=\"text-align: right;\">\n",
       "      <th></th>\n",
       "      <th>RACE</th>\n",
       "      <th>Other Race</th>\n",
       "    </tr>\n",
       "  </thead>\n",
       "  <tbody>\n",
       "    <tr>\n",
       "      <th>3</th>\n",
       "      <td>1</td>\n",
       "      <td>0</td>\n",
       "    </tr>\n",
       "    <tr>\n",
       "      <th>5</th>\n",
       "      <td>1</td>\n",
       "      <td>0</td>\n",
       "    </tr>\n",
       "    <tr>\n",
       "      <th>6</th>\n",
       "      <td>2</td>\n",
       "      <td>0</td>\n",
       "    </tr>\n",
       "    <tr>\n",
       "      <th>7</th>\n",
       "      <td>2</td>\n",
       "      <td>0</td>\n",
       "    </tr>\n",
       "    <tr>\n",
       "      <th>8</th>\n",
       "      <td>1</td>\n",
       "      <td>0</td>\n",
       "    </tr>\n",
       "  </tbody>\n",
       "</table>\n",
       "</div>"
      ],
      "text/plain": [
       "   RACE  Other Race\n",
       "3     1           0\n",
       "5     1           0\n",
       "6     2           0\n",
       "7     2           0\n",
       "8     1           0"
      ]
     },
     "execution_count": 16,
     "metadata": {},
     "output_type": "execute_result"
    }
   ],
   "source": [
    "def other(x):\n",
    "    if (x >= 3):\n",
    "        return 1\n",
    "    else:\n",
    "        return 0\n",
    "    \n",
    "data['Other Race'] = data['RACE'].apply(other)\n",
    "data[['RACE', 'Other Race']].head()"
   ]
  },
  {
   "cell_type": "code",
   "execution_count": 17,
   "id": "b84d0fcb",
   "metadata": {
    "scrolled": true
   },
   "outputs": [
    {
     "data": {
      "text/html": [
       "<div>\n",
       "<style scoped>\n",
       "    .dataframe tbody tr th:only-of-type {\n",
       "        vertical-align: middle;\n",
       "    }\n",
       "\n",
       "    .dataframe tbody tr th {\n",
       "        vertical-align: top;\n",
       "    }\n",
       "\n",
       "    .dataframe thead th {\n",
       "        text-align: right;\n",
       "    }\n",
       "</style>\n",
       "<table border=\"1\" class=\"dataframe\">\n",
       "  <thead>\n",
       "    <tr style=\"text-align: right;\">\n",
       "      <th></th>\n",
       "      <th>SEX</th>\n",
       "      <th>AGE</th>\n",
       "      <th>RACE</th>\n",
       "      <th>RACED</th>\n",
       "      <th>INCTOT</th>\n",
       "      <th>Female</th>\n",
       "      <th>White</th>\n",
       "      <th>Black</th>\n",
       "      <th>Other Race</th>\n",
       "    </tr>\n",
       "  </thead>\n",
       "  <tbody>\n",
       "    <tr>\n",
       "      <th>3</th>\n",
       "      <td>1</td>\n",
       "      <td>16</td>\n",
       "      <td>1</td>\n",
       "      <td>100</td>\n",
       "      <td>0</td>\n",
       "      <td>0</td>\n",
       "      <td>1</td>\n",
       "      <td>0</td>\n",
       "      <td>0</td>\n",
       "    </tr>\n",
       "    <tr>\n",
       "      <th>5</th>\n",
       "      <td>2</td>\n",
       "      <td>19</td>\n",
       "      <td>1</td>\n",
       "      <td>100</td>\n",
       "      <td>8000</td>\n",
       "      <td>1</td>\n",
       "      <td>1</td>\n",
       "      <td>0</td>\n",
       "      <td>0</td>\n",
       "    </tr>\n",
       "    <tr>\n",
       "      <th>6</th>\n",
       "      <td>1</td>\n",
       "      <td>36</td>\n",
       "      <td>2</td>\n",
       "      <td>200</td>\n",
       "      <td>0</td>\n",
       "      <td>0</td>\n",
       "      <td>0</td>\n",
       "      <td>1</td>\n",
       "      <td>0</td>\n",
       "    </tr>\n",
       "    <tr>\n",
       "      <th>7</th>\n",
       "      <td>1</td>\n",
       "      <td>35</td>\n",
       "      <td>2</td>\n",
       "      <td>200</td>\n",
       "      <td>0</td>\n",
       "      <td>0</td>\n",
       "      <td>0</td>\n",
       "      <td>1</td>\n",
       "      <td>0</td>\n",
       "    </tr>\n",
       "    <tr>\n",
       "      <th>8</th>\n",
       "      <td>1</td>\n",
       "      <td>45</td>\n",
       "      <td>1</td>\n",
       "      <td>100</td>\n",
       "      <td>0</td>\n",
       "      <td>0</td>\n",
       "      <td>1</td>\n",
       "      <td>0</td>\n",
       "      <td>0</td>\n",
       "    </tr>\n",
       "  </tbody>\n",
       "</table>\n",
       "</div>"
      ],
      "text/plain": [
       "   SEX  AGE  RACE  RACED  INCTOT  Female  White  Black  Other Race\n",
       "3    1   16     1    100       0       0      1      0           0\n",
       "5    2   19     1    100    8000       1      1      0           0\n",
       "6    1   36     2    200       0       0      0      1           0\n",
       "7    1   35     2    200       0       0      0      1           0\n",
       "8    1   45     1    100       0       0      1      0           0"
      ]
     },
     "execution_count": 17,
     "metadata": {},
     "output_type": "execute_result"
    }
   ],
   "source": [
    "data.head()"
   ]
  },
  {
   "cell_type": "code",
   "execution_count": 18,
   "id": "0cdf8b08",
   "metadata": {},
   "outputs": [
    {
     "data": {
      "text/html": [
       "<div>\n",
       "<style scoped>\n",
       "    .dataframe tbody tr th:only-of-type {\n",
       "        vertical-align: middle;\n",
       "    }\n",
       "\n",
       "    .dataframe tbody tr th {\n",
       "        vertical-align: top;\n",
       "    }\n",
       "\n",
       "    .dataframe thead th {\n",
       "        text-align: right;\n",
       "    }\n",
       "</style>\n",
       "<table border=\"1\" class=\"dataframe\">\n",
       "  <thead>\n",
       "    <tr style=\"text-align: right;\">\n",
       "      <th></th>\n",
       "      <th>SEX</th>\n",
       "      <th>AGE</th>\n",
       "      <th>RACE</th>\n",
       "      <th>RACED</th>\n",
       "      <th>INCTOT</th>\n",
       "      <th>Female</th>\n",
       "      <th>White</th>\n",
       "      <th>Black</th>\n",
       "      <th>Other Race</th>\n",
       "    </tr>\n",
       "  </thead>\n",
       "  <tbody>\n",
       "    <tr>\n",
       "      <th>count</th>\n",
       "      <td>2114708.0000</td>\n",
       "      <td>2114708.0000</td>\n",
       "      <td>2114708.0000</td>\n",
       "      <td>2114708.0000</td>\n",
       "      <td>2114708.0000</td>\n",
       "      <td>2114708.0000</td>\n",
       "      <td>2114708.0000</td>\n",
       "      <td>2114708.0000</td>\n",
       "      <td>2114708.0000</td>\n",
       "    </tr>\n",
       "    <tr>\n",
       "      <th>mean</th>\n",
       "      <td>1.5007</td>\n",
       "      <td>40.3836</td>\n",
       "      <td>2.6242</td>\n",
       "      <td>266.8490</td>\n",
       "      <td>231838.0660</td>\n",
       "      <td>0.5007</td>\n",
       "      <td>0.6413</td>\n",
       "      <td>0.0983</td>\n",
       "      <td>0.2603</td>\n",
       "    </tr>\n",
       "    <tr>\n",
       "      <th>std</th>\n",
       "      <td>0.5000</td>\n",
       "      <td>15.3504</td>\n",
       "      <td>2.6372</td>\n",
       "      <td>270.9148</td>\n",
       "      <td>1344607.6400</td>\n",
       "      <td>0.5000</td>\n",
       "      <td>0.4796</td>\n",
       "      <td>0.2978</td>\n",
       "      <td>0.4388</td>\n",
       "    </tr>\n",
       "    <tr>\n",
       "      <th>min</th>\n",
       "      <td>1.0000</td>\n",
       "      <td>14.0000</td>\n",
       "      <td>1.0000</td>\n",
       "      <td>100.0000</td>\n",
       "      <td>-11100.0000</td>\n",
       "      <td>0.0000</td>\n",
       "      <td>0.0000</td>\n",
       "      <td>0.0000</td>\n",
       "      <td>0.0000</td>\n",
       "    </tr>\n",
       "    <tr>\n",
       "      <th>25%</th>\n",
       "      <td>1.0000</td>\n",
       "      <td>27.0000</td>\n",
       "      <td>1.0000</td>\n",
       "      <td>100.0000</td>\n",
       "      <td>6100.0000</td>\n",
       "      <td>0.0000</td>\n",
       "      <td>0.0000</td>\n",
       "      <td>0.0000</td>\n",
       "      <td>0.0000</td>\n",
       "    </tr>\n",
       "    <tr>\n",
       "      <th>50%</th>\n",
       "      <td>2.0000</td>\n",
       "      <td>41.0000</td>\n",
       "      <td>1.0000</td>\n",
       "      <td>100.0000</td>\n",
       "      <td>30000.0000</td>\n",
       "      <td>1.0000</td>\n",
       "      <td>1.0000</td>\n",
       "      <td>0.0000</td>\n",
       "      <td>0.0000</td>\n",
       "    </tr>\n",
       "    <tr>\n",
       "      <th>75%</th>\n",
       "      <td>2.0000</td>\n",
       "      <td>54.0000</td>\n",
       "      <td>3.0000</td>\n",
       "      <td>362.0000</td>\n",
       "      <td>64000.0000</td>\n",
       "      <td>1.0000</td>\n",
       "      <td>1.0000</td>\n",
       "      <td>0.0000</td>\n",
       "      <td>1.0000</td>\n",
       "    </tr>\n",
       "    <tr>\n",
       "      <th>max</th>\n",
       "      <td>2.0000</td>\n",
       "      <td>65.0000</td>\n",
       "      <td>9.0000</td>\n",
       "      <td>990.0000</td>\n",
       "      <td>9999999.0000</td>\n",
       "      <td>1.0000</td>\n",
       "      <td>1.0000</td>\n",
       "      <td>1.0000</td>\n",
       "      <td>1.0000</td>\n",
       "    </tr>\n",
       "  </tbody>\n",
       "</table>\n",
       "</div>"
      ],
      "text/plain": [
       "               SEX          AGE         RACE        RACED       INCTOT  \\\n",
       "count 2114708.0000 2114708.0000 2114708.0000 2114708.0000 2114708.0000   \n",
       "mean        1.5007      40.3836       2.6242     266.8490  231838.0660   \n",
       "std         0.5000      15.3504       2.6372     270.9148 1344607.6400   \n",
       "min         1.0000      14.0000       1.0000     100.0000  -11100.0000   \n",
       "25%         1.0000      27.0000       1.0000     100.0000    6100.0000   \n",
       "50%         2.0000      41.0000       1.0000     100.0000   30000.0000   \n",
       "75%         2.0000      54.0000       3.0000     362.0000   64000.0000   \n",
       "max         2.0000      65.0000       9.0000     990.0000 9999999.0000   \n",
       "\n",
       "            Female        White        Black   Other Race  \n",
       "count 2114708.0000 2114708.0000 2114708.0000 2114708.0000  \n",
       "mean        0.5007       0.6413       0.0983       0.2603  \n",
       "std         0.5000       0.4796       0.2978       0.4388  \n",
       "min         0.0000       0.0000       0.0000       0.0000  \n",
       "25%         0.0000       0.0000       0.0000       0.0000  \n",
       "50%         1.0000       1.0000       0.0000       0.0000  \n",
       "75%         1.0000       1.0000       0.0000       1.0000  \n",
       "max         1.0000       1.0000       1.0000       1.0000  "
      ]
     },
     "execution_count": 18,
     "metadata": {},
     "output_type": "execute_result"
    }
   ],
   "source": [
    "#Summary statistics table:\n",
    "data.describe()"
   ]
  },
  {
   "cell_type": "markdown",
   "id": "2063656c",
   "metadata": {},
   "source": [
    "We are not splitting up our variables much besides how they are already separated since race is one of our major variables. If we were to split up personal income into multiple categories, it would look subjective based on what different people consider to be \"a lot\" versus \"a little\". So, we will start by having one plot showing total income by race (all of them). Then, we will have another plot showing total personal income by non-white (0) and white (1) people.\n",
    "\n",
    "The data is basically evenly split between men and women, with a mean of 1.5007 and a standard deviation of .5, which means there are slightly more women than men. There is at least one man and at least one woman in the sample. This is shown in the “Female” data, where women encompass around 50.07% of the census population, though with a standard deviation of the proportion being 0.5. Because there are only two values and the average is almost exactly in between the two, we can conclude that the data distribution is almost perfectly symmetrical.\n",
    "\n",
    "For age, the average age of the sample is 40.383 years with a standard deviation of 15.304  years. This means that most of the sample is between 25.1 and 55.7 years. The youngest person in the sample is 14 years old, and the oldest is 65. Because the mean (40.383) is very close to the median (41), we can see the sample is basically symmetrically distributed. The relatively small standard deviation (15.3) compared to the sample mean means that most of the data is clustered around the mean. \n",
    "\n",
    "Generally, the average race of the sample is 2.96242 with a standard deviation of 2.6372. The fact that the mean (2.9642) is greater than the median (1) means that the data is skewed right, and we can see in the data that 75% of the people are white, Black, or American Indian or Alaska Native. There is a white person in the sample and a person of 3 or more major races. We can see this data more clearly in the “white” category which shows that a proportion of 0.6413 of the census population is white with a standard deviation of 0.4796. There is at least one white and one non white person in the sample. A proportion of 0.0983 of the census is Black with a standard deviation of 0.2978, leaving a proportion of .2603 that are another race (neither white nor Black) with a standard deviation of .4388. \n",
    "\n",
    "The average total personal income of the sample is 231,838.0660 with a standard deviation of 1,344,607.64 dollars. The minimum total personal income in the same is -11100.000 dollars and the max is 9,999,999.0000. Because the mean of the data (231838.066) is much greater than the median (30,000), the total personal income distribution must have a strong right skew. The maximum income is more than 7 standard deviations from the mean, meaning that it is likely an outlier in this census data. The large standard deviation means that the points are very dispersed here."
   ]
  },
  {
   "cell_type": "markdown",
   "id": "4ff44905",
   "metadata": {},
   "source": [
    "<a class='anchor' id='anchor4'></a>\n",
    "## Plots:"
   ]
  },
  {
   "cell_type": "code",
   "execution_count": 19,
   "id": "66bc0bfa",
   "metadata": {
    "scrolled": false
   },
   "outputs": [
    {
     "data": {
      "image/png": "[encoded data removed]",
      "text/plain": [
       "<Figure size 432x288 with 1 Axes>"
      ]
     },
     "metadata": {
      "needs_background": "light"
     },
     "output_type": "display_data"
    }
   ],
   "source": [
    "bar = sns.barplot(data = data, x = 'Black', y = 'INCTOT', ci = None);\n",
    "bar.set(title = 'Total Income by Race', xlabel = 'Race', ylabel = 'Personal Income', xticklabels = [\"Non-Black\", \"Black\"]);"
   ]
  },
  {
   "cell_type": "markdown",
   "id": "3a30fd30",
   "metadata": {},
   "source": [
    "This bar plot shows total income between black and non-black populations. The orange bar represents the mean of the total income of the black population, and the blue bar represents the mean of the total income of non-black populations. The total income for non-black populations is higher by roughly $25,000. This difference is corroborated by our literature review, in which many researchers investigated a significant income gap between white and black people in the United States. However, this gap is relatively small, and could be explained by the fact that many races besides white are included in the non-black category. In our literature review, we found that people such as Hispanic Americans also often find themselves on the bottom of the income structure."
   ]
  },
  {
   "cell_type": "code",
   "execution_count": 20,
   "id": "373ec4a2",
   "metadata": {
    "scrolled": true
   },
   "outputs": [
    {
     "data": {
      "image/png": "[encoded data removed]",
      "text/plain": [
       "<Figure size 432x288 with 1 Axes>"
      ]
     },
     "metadata": {
      "needs_background": "light"
     },
     "output_type": "display_data"
    }
   ],
   "source": [
    "bar = sns.barplot(data = data, x = 'White', y = 'INCTOT', ci = None);\n",
    "bar.set(title = 'Total Income by Race', xlabel = 'Race', ylabel = 'Personal Income', xticklabels = [\"Non-White\", \"White\"]);"
   ]
  },
  {
   "cell_type": "markdown",
   "id": "f5ddb8c7",
   "metadata": {},
   "source": [
    "This bar plot shows total income between white and non-white populations. The blue bar represents the mean total income of non-white populations, and the orange bar represents the mean total income of the white population. The mean total income of the non-white populations is higher than that of the white population by slightly less than $50,000. This is a surprising finding given our literature review which largely supported claims that non-white people have lower levels of income than white people in the United States. This difference could be attributed to the fact that the amount of data for non-white populations is larger than the amount of data for white income, and thus there could be a greater quantity of extremely high incomes in the non-white samples, raising the mean. "
   ]
  },
  {
   "cell_type": "markdown",
   "id": "9993c3b5",
   "metadata": {},
   "source": [
    "<a class='anchor' id='anchor5'></a>\n",
    "## Hypothesis Tests:"
   ]
  },
  {
   "cell_type": "code",
   "execution_count": 21,
   "id": "76d8cf70",
   "metadata": {},
   "outputs": [],
   "source": [
    "#Hypothesis test #1\n",
    "white = data[data['White'] == 1]['INCTOT']\n",
    "black = data[data['Black'] == 1]['INCTOT']"
   ]
  },
  {
   "cell_type": "code",
   "execution_count": 22,
   "id": "33538dee",
   "metadata": {},
   "outputs": [
    {
     "data": {
      "text/plain": [
       "Ttest_indResult(statistic=0.9026563517750291, pvalue=0.36670844775166866)"
      ]
     },
     "execution_count": 22,
     "metadata": {},
     "output_type": "execute_result"
    }
   ],
   "source": [
    "ttest_ind(white, black)"
   ]
  },
  {
   "cell_type": "code",
   "execution_count": 23,
   "id": "c056c3d8",
   "metadata": {
    "scrolled": true
   },
   "outputs": [
    {
     "name": "stdout",
     "output_type": "stream",
     "text": [
      "test-stat:  0.9027\n",
      "p-value:  0.3667\n"
     ]
    }
   ],
   "source": [
    "test_race_1 = ttest_ind(white, black)\n",
    "print('test-stat: ', round(test_race_1[0], 4))\n",
    "print('p-value: ', round(test_race_1[1], 4))"
   ]
  },
  {
   "cell_type": "markdown",
   "id": "fb026485",
   "metadata": {},
   "source": [
    "## Hypothesis Test 1:\n",
    "In this analysis, the null hypothesis was that income of white people and black people is the same. This hypothesis test yielded the test statistic was 0.9 and the p-value 0.3667. Thus, we fail to reject the null at a 5% or 10% confidence level. Until further testing is conducted, there is not enough significant evidence to conclude that there is a difference between white and black total income levels. "
   ]
  },
  {
   "cell_type": "code",
   "execution_count": 24,
   "id": "02834abf",
   "metadata": {},
   "outputs": [],
   "source": [
    "#Hypothesis test #2\n",
    "white = data[data['White'] == 1]['INCTOT']\n",
    "otherrace = data[data['Other Race'] == 1]['INCTOT']"
   ]
  },
  {
   "cell_type": "code",
   "execution_count": 25,
   "id": "d1388b10",
   "metadata": {},
   "outputs": [
    {
     "data": {
      "text/plain": [
       "Ttest_indResult(statistic=-25.610633513726523, pvalue=1.2290309674619615e-144)"
      ]
     },
     "execution_count": 25,
     "metadata": {},
     "output_type": "execute_result"
    }
   ],
   "source": [
    "ttest_ind(white, otherrace)"
   ]
  },
  {
   "cell_type": "code",
   "execution_count": 26,
   "id": "3ad016ec",
   "metadata": {
    "scrolled": true
   },
   "outputs": [
    {
     "name": "stdout",
     "output_type": "stream",
     "text": [
      "test-stat:  -25.6106\n",
      "p-value:  0.0\n"
     ]
    }
   ],
   "source": [
    "test_race_2 = ttest_ind(white, otherrace)\n",
    "print('test-stat: ', round(test_race_2[0], 4))\n",
    "print('p-value: ', round(test_race_2[1], 4))"
   ]
  },
  {
   "cell_type": "markdown",
   "id": "ed513cc5",
   "metadata": {},
   "source": [
    "## Hypothesis Test 2:\n",
    "In this analysis, the null hypothesis is that total income levels between white people and all other races included in the data set are the same. This hypothesis test yielded a test statistic of -25.61 and a p-value of 0. Given this result, we can reject the null that income levels between these two groups are the same at a 5% confidence level because there is a statistically significant difference between these two groups. "
   ]
  },
  {
   "cell_type": "code",
   "execution_count": 27,
   "id": "02459ff8",
   "metadata": {},
   "outputs": [],
   "source": [
    "#Hypothesis test #3\n",
    "black = data[data['Black'] == 1]['INCTOT']\n",
    "otherrace = data[data['Other Race'] == 1]['INCTOT']"
   ]
  },
  {
   "cell_type": "code",
   "execution_count": 28,
   "id": "0e291b16",
   "metadata": {},
   "outputs": [
    {
     "data": {
      "text/plain": [
       "Ttest_indResult(statistic=-15.34743785921758, pvalue=3.7531010573166542e-53)"
      ]
     },
     "execution_count": 28,
     "metadata": {},
     "output_type": "execute_result"
    }
   ],
   "source": [
    "ttest_ind(black, otherrace)"
   ]
  },
  {
   "cell_type": "code",
   "execution_count": 29,
   "id": "28a78d17",
   "metadata": {},
   "outputs": [
    {
     "name": "stdout",
     "output_type": "stream",
     "text": [
      "test-stat:  -15.3474\n",
      "p-value:  0.0\n"
     ]
    }
   ],
   "source": [
    "test_race_3 = ttest_ind(black, otherrace)\n",
    "print('test-stat: ', round(test_race_3[0], 4))\n",
    "print('p-value: ', round(test_race_3[1], 4))"
   ]
  },
  {
   "cell_type": "markdown",
   "id": "274176c8",
   "metadata": {},
   "source": [
    "## Hypothesis Test 3:\n",
    "\n",
    "In this analysis, the difference in income levels between black and non-black populations were tested, the null hypothesis being that they are the same. The resulting test statistic was -15.34 and the resulting p-value was 0. Given this result, we can reject the null hypothesis that income levels between black and non-black populations are the same at a 5% confidence level because the difference between the two groups is statistically significant."
   ]
  },
  {
   "cell_type": "markdown",
   "id": "777485fd",
   "metadata": {},
   "source": [
    "<a class='anchor' id='anchor6'></a>\n",
    "## Conclusion:\n",
    "\n",
    "We were seeking to discover if race had an effect on total personal income. As we can see in our data, there is significant evidence to prove that there is a difference in total personal income between white people and other races and between Black people and other races. However, we cannot find significant evidence to prove there is a difference in total personal income between white and Black people. In this way, we prove that yes, race does have an effect on personal income, but that this is not proved between certain countries. We were limited to the census data provided, so we needed to limit our responses to certain ages. By synthesizing and analyzing the data in this way, we were able to gain broad overarching evidence that race does have an effect on personal income, but not as much in the way we originally thought, which mainly focused on the difference between white and black incomes. For future research, it would be interesting to see the household income of people’s parents divided by their race to see if generational poverty affects people of different races in different ways."
   ]
  },
  {
   "cell_type": "markdown",
   "id": "003c7610",
   "metadata": {},
   "source": [
    "## Bibliography:\n",
    "Steven Ruggles, Sarah Flood, Matthew Sobek, Danika Brockman, Grace Cooper,  Stephanie Richards, and Megan Schouweiler. IPUMS USA: Version 13.0 [dataset]. Minneapolis, MN: IPUMS, 2023.\n",
    "https://doi.org/10.18128/D010.V13.0"
   ]
  },
  {
   "cell_type": "code",
   "execution_count": 31,
   "id": "4910c522",
   "metadata": {
    "scrolled": true
   },
   "outputs": [
    {
     "name": "stdout",
     "output_type": "stream",
     "text": [
      "[NbConvertApp] Converting notebook Final_Project.ipynb to html\n",
      "[NbConvertApp] Writing 680996 bytes to Final_Project.html\n"
     ]
    }
   ],
   "source": [
    "!jupyter nbconvert --to html Final_Project.ipynb"
   ]
  }
 ],
 "metadata": {
  "kernelspec": {
   "display_name": "Python 3 (ipykernel)",
   "language": "python",
   "name": "python3"
  },
  "language_info": {
   "codemirror_mode": {
    "name": "ipython",
    "version": 3
   },
   "file_extension": ".py",
   "mimetype": "text/x-python",
   "name": "python",
   "nbconvert_exporter": "python",
   "pygments_lexer": "ipython3",
   "version": "3.9.12"
  }
 },
 "nbformat": 4,
 "nbformat_minor": 5
}
